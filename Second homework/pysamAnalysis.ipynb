{
 "cells": [
  {
   "cell_type": "code",
   "execution_count": 1,
   "metadata": {},
   "outputs": [
    {
     "name": "stdout",
     "output_type": "stream",
     "text": [
      "Collecting pysam\n",
      "  Downloading pysam-0.16.0.1-cp38-cp38-manylinux1_x86_64.whl (10.2 MB)\n",
      "\u001b[K     |████████████████████████████████| 10.2 MB 15.3 MB/s eta 0:00:01\n",
      "\u001b[?25hInstalling collected packages: pysam\n",
      "Successfully installed pysam-0.16.0.1\n"
     ]
    }
   ],
   "source": [
    "! pip install pysam"
   ]
  },
  {
   "cell_type": "code",
   "execution_count": 2,
   "metadata": {},
   "outputs": [],
   "source": [
    "import pysam"
   ]
  },
  {
   "cell_type": "code",
   "execution_count": 18,
   "metadata": {},
   "outputs": [],
   "source": [
    "samfile = pysam.AlignmentFile(\"/sbgenomics/project-files/merged-tumor.bam\", \"rb\")"
   ]
  },
  {
   "cell_type": "markdown",
   "metadata": {},
   "source": [
    "## Inspecting first read"
   ]
  },
  {
   "cell_type": "code",
   "execution_count": 19,
   "metadata": {},
   "outputs": [
    {
     "name": "stdout",
     "output_type": "stream",
     "text": [
      "C0HVYACXX120402:7:1207:5722:57044\t1187\t20\t9483248\t27\t76M\t20\t9483381\t76\tTTTTCAAACAGTATCTATGCCTGCCAAATGTGAACATATAAAAAAAAACCAGAATGTGCCATTCTGATTTAAACTG\tarray('B', [28, 28, 27, 29, 31, 30, 31, 31, 29, 31, 35, 30, 29, 31, 34, 30, 29, 23, 41, 32, 20, 30, 29, 34, 34, 29, 30, 31, 30, 30, 30, 33, 33, 26, 39, 12, 25, 19, 32, 30, 35, 28, 35, 33, 23, 33, 35, 36, 30, 38, 33, 41, 34, 35, 31, 33, 23, 30, 30, 36, 27, 32, 29, 34, 35, 41, 33, 31, 33, 29, 32, 32, 31, 31, 31, 34])\t[('XA', 'GL000217.1,-110754,76M,1;'), ('BD', 'NNNNNNNNNNNNNNNNNNNNNNNNNNNNNNNNNNNNNNNNNNNNNNNNNNNNNNNNNNNNNNNNNNNNNNNNNNNN'), ('MD', '76'), ('RG', '1'), ('BI', 'NNNNNNNNNNNNNNNNNNNNNNNNNNNNNNNNNNNNNNNNNNNNNNNNNNNNNNNNNNNNNNNNNNNNNNNNNNNN'), ('NM', 0), ('MQ', 27), ('AS', 76), ('XS', 71)]\n",
      "\n",
      "Read name is C0HVYACXX120402:7:1207:5722:57044\n",
      "Read flag is 1187\n",
      "Read reference sequence name is 20\n",
      "Postion of read is 9483248\n",
      "Mapping quality is 27\n",
      "Cigar string is 76M\n",
      "Mate reference sequence name is 20\n",
      "Mate left-most position is 9483381\n",
      "Inferred insert size is 76\n",
      "Query sequence is TTTTCAAACAGTATCTATGCCTGCCAAATGTGAACATATAAAAAAAAACCAGAATGTGCCATTCTGATTTAAACTG\n",
      "Quality sequence  ==<>@?@@>@D?>@C?>8JA5?>CC>?@???BB;H-:4A?D=DB8BDE?GBJCD@B8??E<A>CDJB@B>AA@@@C\n"
     ]
    }
   ],
   "source": [
    "for read in samfile:\n",
    "    print(read)\n",
    "    print()\n",
    "    print(f\"Read name is {read.qname}\")\n",
    "    print(f\"Read flag is {read.flag}\")\n",
    "    print(f\"Read reference sequence name is {read.rname}\")\n",
    "    print(f\"Postion of read is {read.pos}\")\n",
    "    print(f\"Mapping quality is {read.mapq}\")\n",
    "    print(f\"Cigar string is {read.cigarstring}\")\n",
    "    print(f\"Mate reference sequence name is {read.mrnm}\")\n",
    "    print(f\"Mate left-most position is {read.mpos}\")\n",
    "    print(f\"Inferred insert size is {read.infer_query_length()}\")\n",
    "    print(f\"Query sequence is {read.seq}\")\n",
    "    print(f\"Quality sequence  {read.qual}\")\n",
    "    break"
   ]
  },
  {
   "cell_type": "markdown",
   "metadata": {},
   "source": [
    "<br/>\n",
    "<b> Flag for this read is 1187 = 0100 1010 0011b </b> <br/>\n",
    "1 - the read is paired in the sequencing, no metter whether it is mapped in pair <br/>\n",
    "1 - the read is mapped in a proper pair <br/>\n",
    "0 - not unmapped <br/>\n",
    "0 - mate is not unamapped <br/>\n",
    "0 - foward stand <br/>\n",
    "1 - mate strand is negative <br/>\n",
    "0 - the read is not first read in pair <br/>\n",
    "1 - the read is second read in pair <br/>\n",
    "0 - the aligment is primary\n",
    "0 - the read not fails platform/vendor quality check\n",
    "1 - the read is either a PCR duplicate or a optional duplicate\n",
    "<br/>"
   ]
  },
  {
   "cell_type": "markdown",
   "metadata": {},
   "source": [
    "## Checking out flag for some reads "
   ]
  },
  {
   "cell_type": "code",
   "execution_count": 20,
   "metadata": {},
   "outputs": [
    {
     "name": "stdout",
     "output_type": "stream",
     "text": [
      "Read name is C0HVYACXX120402:3:1307:14105:43830 and read flag is 99\n",
      "Read name is D0RE2ACXX120401:3:1107:20869:18508 and read flag is 147\n",
      "Read name is D0RE2ACXX120401:3:2107:2597:112681 and read flag is 163\n"
     ]
    }
   ],
   "source": [
    "samfile = pysam.AlignmentFile(\"/sbgenomics/project-files/merged-tumor.bam\", \"rb\")\n",
    "i = 0\n",
    "someReads = {6,124, 5789}\n",
    "for read in samfile:\n",
    "    if(i in someReads):\n",
    "        print(f\"Read name is {read.qname} and read flag is {read.flag}\")\n",
    "    i+=1"
   ]
  },
  {
   "cell_type": "markdown",
   "metadata": {},
   "source": [
    "<br/>\n",
    "<b> Flag for C0HVYACXX120402:3:1307:14105:43830 read is 99 =  0110 0011b </b> <br/>\n",
    "1 - the read is paired in the sequencing, no metter whether it is mapped in pair <br/>\n",
    "1 - the read is mapped in a proper pair <br/>\n",
    "0 - not unmapped <br/>\n",
    "0 - mate is not unamapped <br/>\n",
    "0 - foward stand <br/>\n",
    "1 - mate strand is negative <br/>\n",
    "1 - the read is first read in pair <br/>\n",
    "0 - the read is not second read in pair <br/>\n",
    "<br/>\n",
    "\n",
    "<br/>\n",
    "<b> Flag for D0RE2ACXX120401:3:1107:20869:18508 read is 147 =  1001 0011b </b> <br/>\n",
    "1 - the read is paired in the sequencing, no metter whether it is mapped in pair <br/>\n",
    "1 - the read is mapped in a proper pair <br/>\n",
    "0 - not unmapped <br/>\n",
    "0 - mate is not unamapped <br/>\n",
    "1 - reverse stand <br/>\n",
    "0 - mate strand is not negative <br/>\n",
    "0 - the read is not first read in pair <br/>\n",
    "1 - the read is second read in pair <br/>\n",
    "<br/>\n",
    "\n",
    "\n",
    "<br/>\n",
    "<b> Flag for D0RE2ACXX120401:3:2107:2597:112681 read is 163 =  1010 0011b </b> <br/>\n",
    "1 - the read is paired in the sequencing, no metter whether it is mapped in pair <br/>\n",
    "1 - the read is mapped in a proper pair <br/>\n",
    "0 - not unmapped <br/>\n",
    "0 - mate is not unamapped <br/>\n",
    "0 - foward stand <br/>\n",
    "1 - mate strand is negative <br/>\n",
    "0 - the read is not first read in pair <br/>\n",
    "1 - the read is second read in pair <br/>\n",
    "<br/>"
   ]
  },
  {
   "cell_type": "markdown",
   "metadata": {},
   "source": [
    "## Calculate"
   ]
  },
  {
   "cell_type": "code",
   "execution_count": 21,
   "metadata": {},
   "outputs": [],
   "source": [
    "samfile = pysam.AlignmentFile(\"/sbgenomics/project-files/merged-tumor.bam\", \"rb\")\n",
    "\n",
    "numUnmappedReads = 0 # number of unmapped reads\n",
    "numOfReads = 0 #Total number of reads\n",
    "readsMapQis0 = 0 #Number of reads with mapping quality 0\n",
    "sumOfQuality = 0 #sum of mapping quality for all the reads\n",
    "\n",
    "for read in samfile:\n",
    "    numOfReads +=1\n",
    "    sumOfQuality += read.mapq\n",
    "    if(read.mapq == 0):\n",
    "        readsMapQis0 += 1\n",
    "    if(read.flag & 0x0004): \n",
    "        numUnmappedReads += 1"
   ]
  },
  {
   "cell_type": "code",
   "execution_count": 22,
   "metadata": {},
   "outputs": [
    {
     "name": "stdout",
     "output_type": "stream",
     "text": [
      "Total number of reads is 2921629.\n",
      "In the file there are 17765 unmapped reads.\n",
      "Number of reads with mapping quality zero is 126628. \n",
      "Average mapping quality for all reads is 55.91379158681681.\n",
      "Average mapping quality for reads if reads with 0 mapp quality are filttred out is 58.446975510921106.\n"
     ]
    }
   ],
   "source": [
    "print(f\"Total number of reads is {numOfReads}.\")\n",
    "print(f\"In the file there are {numUnmappedReads} unmapped reads.\")\n",
    "print(f\"Number of reads with mapping quality zero is {readsMapQis0}. \")\n",
    "avg = sumOfQuality/numOfReads\n",
    "print(f\"Average mapping quality for all reads is {avg}.\")\n",
    "avg = sumOfQuality/(numOfReads-readsMapQis0)\n",
    "print(f\"Average mapping quality for reads if reads with 0 mapp quality are filttred out is {avg}.\")"
   ]
  },
  {
   "cell_type": "code",
   "execution_count": 23,
   "metadata": {},
   "outputs": [],
   "source": [
    "samfile.close()"
   ]
  }
 ],
 "metadata": {
  "kernelspec": {
   "display_name": "Python 3",
   "language": "python",
   "name": "python3"
  },
  "language_info": {
   "codemirror_mode": {
    "name": "ipython",
    "version": 3
   },
   "file_extension": ".py",
   "mimetype": "text/x-python",
   "name": "python",
   "nbconvert_exporter": "python",
   "pygments_lexer": "ipython3",
   "version": "3.8.3"
  }
 },
 "nbformat": 4,
 "nbformat_minor": 4
}
